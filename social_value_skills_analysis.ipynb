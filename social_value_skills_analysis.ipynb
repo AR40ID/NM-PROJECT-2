
# Social Value Skills Analysis

This notebook analyzes social value skills using a generated dataset.  

## Importing Libraries
```python
import pandas as pd
import matplotlib.pyplot as plt
import seaborn as sns
```

## Loading the Dataset
```python
df = pd.read_csv("social_value_skills_dataset.csv")
df.head()
```

## Data Summary
```python
df.describe()
```

## Visualization: Correlation Heatmap
```python
plt.figure(figsize=(10,6))
sns.heatmap(df.corr(), annot=True, cmap="coolwarm", fmt=".2f")
plt.title("Correlation between Social Value Skills")
plt.show()
```

## Histogram of Social Skills Scores
```python
df.hist(figsize=(12,8), bins=10, edgecolor='black')
plt.suptitle("Distribution of Social Value Skills Scores", fontsize=16)
plt.show()
```

## Conclusion
This dataset provides insights into various social skills. Further analysis can be done for deeper insights.
